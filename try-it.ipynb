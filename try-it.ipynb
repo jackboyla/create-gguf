{
 "cells": [
  {
   "cell_type": "code",
   "execution_count": null,
   "metadata": {},
   "outputs": [
    {
     "name": "stdout",
     "output_type": "stream",
     "text": [
      "200\n",
      "{'model': 'hf.co/jackboyla/Phi-3-mini-4k-instruct-graph-GGUF:Q8_0', 'created_at': '2024-12-07T15:28:13.627114Z', 'message': {'role': 'assistant', 'content': '{\"nodes\":[{\"id\":\"OpenAI\",\"type\":\"organization\",\"detailed_type\":\"artificial intelligence research organization\"},{\"id\":\"GPT family of large language models\",\"type\":\"technology\",\"detailed_type\":\"large language model series\"},{\"id\":\"DALL-E series\",\"type\":\"technology\",\"detailed_type\":\"text-to-image model series\"},{\"id\":\"Sora\",\"type\":\"technology\",\"detailed_type\":\"text-to-video model\"},{\"id\":\"ChatGPT\",\"type\":\"product\",\"detailed_type\":\"generative AI model\"},{\"id\":\"November 2022\",\"type\":\"date\",\"detailed_type\":\"release date of ChatGPT\"},{\"id\":\"San Francisco, California\",\"type\":\"location\",\"detailed_type\":\"city\"},{\"id\":\"December 2015\",\"type\":\"date\",\"detailed_type\":\"founding date\"}],\"edges\":[{\"from\":\"OpenAI\",\"to\":\"November 2022\",\"label\":\"released ChatGPT in\"},{\"from\":\"OpenAI\",\"to\":\"San Francisco, California\",\"label\":\"headquartered in\"},{\"from\":\"OpenAI\",\"to\":\"December 2015\",\"label\":\"founded in\"},{\"from\":\"OpenAI\",\"to\":\"GPT family of large language models\",\"label\":\"develops\"},{\"from\":\"OpenAI\",\"to\":\"DALL-E series\",\"label\":\"develops\"},{\"from\":\"OpenAI\",\"to\":\"Sora\",\"label\":\"develops\"},{\"from\":\"ChatGPT\",\"to\":\"November 2022\",\"label\":\"released in\"}]}'}, 'done_reason': 'stop', 'done': True, 'total_duration': 50867300291, 'load_duration': 4817802625, 'prompt_eval_count': 696, 'prompt_eval_duration': 22010000000, 'eval_count': 355, 'eval_duration': 23982000000}\n"
     ]
    }
   ],
   "source": [
    "# install ollama\n",
    "# run:\n",
    "# `ollama pull hf.co/jackboyla/Phi-3-mini-4k-instruct-graph-GGUF:Q8_0`\n",
    "import requests\n",
    "import json\n",
    "\n",
    "messages = [ \n",
    "    {\"role\": \"system\", \"content\": \"\"\"\n",
    "A chat between a curious user and an artificial intelligence Assistant. The Assistant is an expert at identifying entities and relationships in text. The Assistant responds in JSON output only.\n",
    "\n",
    "The User provides text in the format:\n",
    "\n",
    "-------Text begin-------\n",
    "<User provided text>\n",
    "-------Text end-------\n",
    "\n",
    "The Assistant follows the following steps before replying to the User:\n",
    "\n",
    "1. **identify the most important entities** The Assistant identifies the most important entities in the text. These entities are listed in the JSON output under the key \"nodes\", they follow the structure of a list of dictionaries where each dict is:\n",
    "\n",
    "\"nodes\":[{\"id\": <entity N>, \"type\": <type>, \"detailed_type\": <detailed type>}, ...]\n",
    "\n",
    "where \"type\": <type> is a broad categorization of the entity. \"detailed type\": <detailed_type>  is a very descriptive categorization of the entity.\n",
    "\n",
    "2. **determine relationships** The Assistant uses the text between -------Text begin------- and -------Text end------- to determine the relationships between the entities identified in the \"nodes\" list defined above. These relationships are called \"edges\" and they follow the structure of:\n",
    "\n",
    "\"edges\":[{\"from\": <entity 1>, \"to\": <entity 2>, \"label\": <relationship>}, ...]\n",
    "\n",
    "The <entity N> must correspond to the \"id\" of an entity in the \"nodes\" list.\n",
    "\n",
    "The Assistant never repeats the same node twice. The Assistant never repeats the same edge twice.\n",
    "The Assistant responds to the User in JSON only, according to the following JSON schema:\n",
    "\n",
    "{\"type\":\"object\",\"properties\":{\"nodes\":{\"type\":\"array\",\"items\":{\"type\":\"object\",\"properties\":{\"id\":{\"type\":\"string\"},\"type\":{\"type\":\"string\"},\"detailed_type\":{\"type\":\"string\"}},\"required\":[\"id\",\"type\",\"detailed_type\"],\"additionalProperties\":false}},\"edges\":{\"type\":\"array\",\"items\":{\"type\":\"object\",\"properties\":{\"from\":{\"type\":\"string\"},\"to\":{\"type\":\"string\"},\"label\":{\"type\":\"string\"}},\"required\":[\"from\",\"to\",\"label\"],\"additionalProperties\":false}}},\"required\":[\"nodes\",\"edges\"],\"additionalProperties\":false}\n",
    "     \"\"\"}, \n",
    "    {\"role\": \"user\", \"content\": \"\"\"\n",
    "-------Text begin-------\n",
    "OpenAI is an American artificial intelligence (AI) research organization founded in December 2015 and headquartered in San Francisco, California. Its mission is to develop \"safe and beneficial\" artificial general intelligence, which it defines as \"highly autonomous systems that outperform humans at most economically valuable work\".[4] As a leading organization in the ongoing AI boom,[5] OpenAI is known for the GPT family of large language models, the DALL-E series of text-to-image models, and a text-to-video model named Sora.[6][7] Its release of ChatGPT in November 2022 has been credited with catalyzing widespread interest in generative AI.\n",
    "-------Text end-------\n",
    "\"\"\"}\n",
    "] \n",
    "\n",
    "# Define the API endpoint\n",
    "url = \"http://localhost:11434/api/chat\"\n",
    "\n",
    "# Prepare the request payload\n",
    "payload = {\n",
    "    \"model\": \"hf.co/jackboyla/Phi-3-mini-4k-instruct-graph-GGUF:Q8_0\",\n",
    "    \"messages\": messages,\n",
    "    \"stream\": False\n",
    "}\n",
    "\n",
    "# Send the POST request\n",
    "response = requests.post(url, json=payload)\n",
    "\n",
    "# Print the response\n",
    "print(response.status_code)\n",
    "out = json.loads(response.content.decode('utf-8'))['message']['content']\n",
    "print(json.dumps(json.loads(out), indent=2))\n",
    "\n"
   ]
  },
  {
   "cell_type": "code",
   "execution_count": null,
   "metadata": {},
   "outputs": [],
   "source": []
  }
 ],
 "metadata": {
  "kernelspec": {
   "display_name": "gguf",
   "language": "python",
   "name": "python3"
  },
  "language_info": {
   "codemirror_mode": {
    "name": "ipython",
    "version": 3
   },
   "file_extension": ".py",
   "mimetype": "text/x-python",
   "name": "python",
   "nbconvert_exporter": "python",
   "pygments_lexer": "ipython3",
   "version": "3.10.15"
  }
 },
 "nbformat": 4,
 "nbformat_minor": 2
}
